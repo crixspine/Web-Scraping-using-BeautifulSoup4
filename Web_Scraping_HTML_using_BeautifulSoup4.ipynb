{
  "nbformat": 4,
  "nbformat_minor": 0,
  "metadata": {
    "colab": {
      "name": "Web Scraping HTML using BeautifulSoup4.ipynb",
      "provenance": [],
      "authorship_tag": "ABX9TyNn8ZnlFTsUBlMvxwCExbQi",
      "include_colab_link": true
    },
    "kernelspec": {
      "name": "python3",
      "display_name": "Python 3"
    },
    "language_info": {
      "name": "python"
    }
  },
  "cells": [
    {
      "cell_type": "markdown",
      "metadata": {
        "id": "view-in-github",
        "colab_type": "text"
      },
      "source": [
        "<a href=\"https://colab.research.google.com/github/crixspine/Web-Scraping-using-BeautifulSoup4/blob/main/Web_Scraping_HTML_using_BeautifulSoup4.ipynb\" target=\"_parent\"><img src=\"https://colab.research.google.com/assets/colab-badge.svg\" alt=\"Open In Colab\"/></a>"
      ]
    },
    {
      "cell_type": "code",
      "metadata": {
        "id": "b_LX6xbVrrdS"
      },
      "source": [
        "import requests\n",
        "from bs4 import BeautifulSoup\n",
        "\n",
        "workshops = [] # raw html obj\n",
        "\n",
        "workshop_url_mod = [i for i in range (0, 1501, 100)] \n",
        "\n",
        "workshop_url_start = \"https://www.sgcarmart.com/directory/listing.php?BRSR=\"\n",
        "workshop_url_end = \"&CAT=7&ORD=name+asc&RPG=100\"\n",
        "\n",
        "for i in workshop_url_mod:\n",
        "  url = workshop_url_start + str(i) + workshop_url_end\n",
        "  page = requests.get(url)\n",
        "  soup = BeautifulSoup(page.content, 'html.parser')\n",
        "  results = soup.find_all(class_='font_bold roboto_sanserif')\n",
        "\n",
        "  for j in results:\n",
        "    workshops.append(j)\n",
        "\n",
        "workshops_clean = [] # string manipulated for workshop name\n",
        "\n",
        "for item in workshops:\n",
        "  ws = str(item).split('>')[1].split('<')[0]\n",
        "  workshops_clean.append(ws)"
      ],
      "execution_count": null,
      "outputs": []
    },
    {
      "cell_type": "code",
      "metadata": {
        "id": "490EPuUx9HCd"
      },
      "source": [
        "workshops_clean"
      ],
      "execution_count": null,
      "outputs": []
    },
    {
      "cell_type": "code",
      "metadata": {
        "id": "Or6hjcuR734I"
      },
      "source": [
        "import pandas as pd\n",
        "\n",
        "df = pd.DataFrame(workshops_clean)\n",
        "df.to_excel(\"C:/Users/Admin/Desktop/workshops.xlsx\")"
      ],
      "execution_count": null,
      "outputs": []
    }
  ]
}